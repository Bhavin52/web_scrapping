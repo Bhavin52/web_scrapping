{
  "nbformat": 4,
  "nbformat_minor": 0,
  "metadata": {
    "colab": {
      "name": "Web_scrapping_Amazon_product_review.ipynb",
      "provenance": [],
      "collapsed_sections": []
    },
    "kernelspec": {
      "name": "python3",
      "display_name": "Python 3"
    },
    "language_info": {
      "name": "python"
    }
  },
  "cells": [
    {
      "cell_type": "code",
      "execution_count": 18,
      "metadata": {
        "id": "3x790ScL_G-U"
      },
      "outputs": [],
      "source": [
        "import requests  \n",
        "from bs4 import BeautifulSoup as bs \n",
        "import re \n",
        "iphone_reviews=[]"
      ]
    },
    {
      "cell_type": "code",
      "source": [
        "### Extracting reviews from Amazon website ################\n",
        "for i in range(1,10):\n",
        "  ip=[]  \n",
        "  url=\"https://www.amazon.in/product-reviews/B094P189P4/ref=dp_cr_wdg_rev_str?showViewpoints=1&pageNumber=\"+str(i)\n",
        "  response = requests.get(url)\n",
        "  soup = bs(response.content,\"html.parser\")# creating soup object to iterate over the extracted content \n",
        "  reviews = soup.findAll(\"span\",attrs={\"class\",\"a-size-base review-text\"})# Extracting the content under specific tags  \n",
        "  for i in range(len(reviews)):\n",
        "    ip.append(reviews[i].text)  \n",
        "  iphone_reviews=iphone_reviews+ip  # adding the reviews of one page to empty list which in future contains all the reviews\n"
      ],
      "metadata": {
        "id": "Of1SOJZ5_yxo"
      },
      "execution_count": 19,
      "outputs": []
    },
    {
      "cell_type": "code",
      "source": [
        "# writng reviews in a text file \n",
        "with open(\"iphone.txt\",\"w\",encoding='utf8') as output:\n",
        "    output.write(str(iphone_reviews))"
      ],
      "metadata": {
        "id": "WJ3FZzerAGZi"
      },
      "execution_count": 20,
      "outputs": []
    },
    {
      "cell_type": "code",
      "source": [
        "iphone_snapdeal=[]\n",
        "url1 = \"https://www.snapdeal.com/product/apple-iphone-5c-16-gb/988871559/reviews?page=\"\n",
        "url2 = \"&sortBy=RECENCY&vsrc=rcnt#defRevPDP\"\n",
        "### Extracting reviews from Amazon website ################\n",
        "for i in range(1,10):\n",
        "  ip=[]  \n",
        "  base_url = url1+str(i)+url2\n",
        "  response = requests.get(base_url)\n",
        "  soup = bs(response.content,\"html.parser\")# creating soup object to iterate over the extracted content \n",
        "  temp = soup.findAll(\"div\",attrs={\"class\",\"user-review\"})# Extracting the content under specific tags  \n",
        "  for j in range(len(temp)):\n",
        "    ip.append(temp[j].find(\"p\").text)\n",
        "  iphone_snapdeal=iphone_snapdeal+ip  # adding the reviews of one page to empty list which in future contains all the reviews\n",
        "\n",
        "\n",
        "\n",
        "### Removing repeated reviews \n",
        "iphone_snapdeal = list(set(iphone_snapdeal))\n",
        "\n",
        "# Writing reviews into text file \n",
        "with open(\"ip_snapdeal.txt\",\"w\",encoding=\"utf-8\") as snp:\n",
        "    snp.write(str(iphone_snapdeal))"
      ],
      "metadata": {
        "id": "__9QhtvuAhF1"
      },
      "execution_count": 21,
      "outputs": []
    }
  ]
}